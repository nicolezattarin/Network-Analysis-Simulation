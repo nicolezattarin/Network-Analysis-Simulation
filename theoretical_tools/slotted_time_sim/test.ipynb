{
 "cells": [
  {
   "cell_type": "code",
   "execution_count": 1,
   "metadata": {},
   "outputs": [],
   "source": [
    "import numpy as np"
   ]
  },
  {
   "cell_type": "markdown",
   "metadata": {},
   "source": [
    "In discrete-event (event-driven) simulation, time is not scanned regularly, but we jump from one event to the next\n",
    "- Good features: no time is wasted while no events, can model most systems of interest\n",
    "- More difficult to program: need to manage time, events, counters\n",
    "- When an event occurs: update time, update counters, execute event, generate future events and put them in the event calendar (if any), modify current events (if any)"
   ]
  },
  {
   "cell_type": "markdown",
   "metadata": {},
   "source": [
    "Our model:\n",
    "- Bernoulli arrivals: 1 with probability a\n",
    "- Geometric service times: 1 with probability b (depart only if there are users in the system)\n",
    "- memoryless system: no memory of past events\n",
    "- Arrivals cannot depart and leave in the same slot\n",
    "\n",
    "Variables:\n",
    "- time t: current time\n",
    "- number of users n_system: number of users in the system\n",
    "- number of arrivals n_arrivals: number of arrivals in the system\n",
    "- number of departures n_departures: number of departures in the system\n",
    "- total cumulative delay cum_delay: cumulative delay of all users\n",
    "- total cumulative number of users cum_n_system: cumulative number of users in the system\n"
   ]
  },
  {
   "cell_type": "code",
   "execution_count": 2,
   "metadata": {},
   "outputs": [],
   "source": [
    "def FIFO (dep_prob, arr_prob, maxtime=1000):\n",
    "    t, n_system, n_arrivals, n_departures = 0,0,0,0 # t count the slot\n",
    "    cum_delay, cum_n_system = 0,0  \n",
    "\n",
    "    # we consider a slotted time and simulate what happens in the slot\n",
    "    while t<maxtime:\n",
    "        # if there are users in the system, consider departure probability\n",
    "        if n_system > 0:\n",
    "            cum_n_system+=n_system #accumulate the number of users in the system\n",
    "            u = np.random.uniform()\n",
    "            if u < dep_prob:\n",
    "                n_departures+=1\n",
    "                n_system-=1\n",
    "        u = np.random.uniform()\n",
    "        if u < arr_prob:\n",
    "            n_arrivals+=1\n",
    "            n_system+=1\n",
    "        t+=1\n",
    "    avg_throughput = n_departures/maxtime #how many users has been served in the system\n",
    "    avg_delay = cum_n_system/n_departures\n",
    "    avg_occupancy = cum_n_system/maxtime\n",
    "    return avg_throughput, avg_delay, avg_occupancy"
   ]
  },
  {
   "cell_type": "code",
   "execution_count": null,
   "metadata": {},
   "outputs": [],
   "source": [
    "def LIFO(dep_prob, arr_prob, maxtime=1000):\n",
    "    t, n_system, n_arrivals, n_departures = 0,0,0,0 # t count the slot\n",
    "    cum_delay, cum_n_system = 0,0  \n",
    "\n",
    "    # we consider a slotted time and simulate what happens in the slot\n",
    "    while t<maxtime:\n",
    "        # if there are users in the system, consider departure probability\n",
    "        if n_system > 0:\n",
    "            cum_n_system+=n_system #accumulate the number of users in the system\n",
    "            u = np.random.uniform()\n",
    "            if u < dep_prob:\n",
    "                n_departures+=1\n",
    "                n_system-=1\n",
    "        u = np.random.uniform()\n",
    "        if u < arr_prob:\n",
    "            n_arrivals+=1\n",
    "            n_system+=1\n",
    "        t+=1\n",
    "    avg_throughput = n_departures/maxtime #how many users has been served in the system\n",
    "    avg_delay = cum_n_system/n_departures\n",
    "    avg_occupancy = cum_n_system/maxtime\n",
    "    return avg_throughput, avg_delay, avg_occupancy"
   ]
  },
  {
   "cell_type": "code",
   "execution_count": 4,
   "metadata": {},
   "outputs": [
    {
     "data": {
      "text/plain": [
       "(0.172, 651.6918604651163, 112.091)"
      ]
     },
     "execution_count": 4,
     "metadata": {},
     "output_type": "execute_result"
    }
   ],
   "source": [
    "FIFO (0.2, 0.4)"
   ]
  },
  {
   "cell_type": "code",
   "execution_count": null,
   "metadata": {},
   "outputs": [],
   "source": []
  }
 ],
 "metadata": {
  "interpreter": {
   "hash": "e47b1a34c05c1e3b83a62d7885c9d1b5ef8a0522d3be0182d0a008ec409b2b3d"
  },
  "kernelspec": {
   "display_name": "Python 3.8.5 ('myenv')",
   "language": "python",
   "name": "python3"
  },
  "language_info": {
   "codemirror_mode": {
    "name": "ipython",
    "version": 3
   },
   "file_extension": ".py",
   "mimetype": "text/x-python",
   "name": "python",
   "nbconvert_exporter": "python",
   "pygments_lexer": "ipython3",
   "version": "3.8.5"
  },
  "orig_nbformat": 4
 },
 "nbformat": 4,
 "nbformat_minor": 2
}
